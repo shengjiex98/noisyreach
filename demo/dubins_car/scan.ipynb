{
 "cells": [
  {
   "cell_type": "code",
   "execution_count": 32,
   "id": "b86d543c",
   "metadata": {},
   "outputs": [],
   "source": [
    "import concurrent.futures\n",
    "from itertools import product\n",
    "\n",
    "import numpy as np\n",
    "import pandas as pd\n",
    "from tqdm import tqdm\n",
    "\n",
    "from noisyreach.deviation import AVAIL_SYSTEMS, deviation, get_max_diam"
   ]
  },
  {
   "cell_type": "code",
   "execution_count": null,
   "id": "bc52f80b",
   "metadata": {},
   "outputs": [],
   "source": [
    "accuracy = [0.9, 0.9, 1, 1, 1]\n",
    "np.max(deviation(0.3, accuracy, system=\"CAR\", plotting=True))"
   ]
  },
  {
   "cell_type": "code",
   "execution_count": null,
   "id": "27149a46",
   "metadata": {},
   "outputs": [],
   "source": [
    "systems = AVAIL_SYSTEMS\n",
    "latency = np.linspace(0.001, 0.020, 20)\n",
    "accuracy = np.linspace(0.5, 1.0, 20)\n",
    "\n",
    "rows = []\n",
    "\n",
    "# Example usage of maximum diameter calculation\n",
    "# diameter = get_max_diam(0.02, (1 - 0.8), \"CAR\")\n",
    "\n",
    "with concurrent.futures.ThreadPoolExecutor(max_workers=8) as executor:\n",
    "    futures_to_args = {}\n",
    "    for argset in product(systems, latency, accuracy):\n",
    "        s, L, a = argset\n",
    "        futures_to_args[executor.submit(get_max_diam, L, 1 - a, s)] = argset\n",
    "\n",
    "    print(argset)\n",
    "    with tqdm(total=len(futures_to_args)) as pbar:\n",
    "        for future in concurrent.futures.as_completed(futures_to_args):\n",
    "            try:\n",
    "                diameter = future.result()\n",
    "                rows.append([*futures_to_args[future], diameter])\n",
    "                pbar.update(1)\n",
    "            except AttributeError as e:\n",
    "                print(e)\n",
    "                print(futures_to_args[future])\n",
    "\n",
    "df = pd.DataFrame(rows, columns=[\"system\", \"latency\", \"accuracy\", \"diameter\"])\n",
    "df"
   ]
  }
 ],
 "metadata": {
  "kernelspec": {
   "display_name": ".venv",
   "language": "python",
   "name": "python3"
  },
  "language_info": {
   "codemirror_mode": {
    "name": "ipython",
    "version": 3
   },
   "file_extension": ".py",
   "mimetype": "text/x-python",
   "name": "python",
   "nbconvert_exporter": "python",
   "pygments_lexer": "ipython3",
   "version": "3.12.9"
  }
 },
 "nbformat": 4,
 "nbformat_minor": 5
}
